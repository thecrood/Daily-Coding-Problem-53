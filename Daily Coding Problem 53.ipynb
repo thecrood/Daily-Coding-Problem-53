{
 "cells": [
  {
   "cell_type": "markdown",
   "id": "8f08fff9",
   "metadata": {},
   "source": [
    "# Daily Coding Problem 53"
   ]
  },
  {
   "cell_type": "raw",
   "id": "35fbe409",
   "metadata": {},
   "source": [
    "This problem was asked by Apple.\n",
    "\n",
    "Implement a queue using two stacks. Recall that a queue is a FIFO (first-in, first-out) data structure with the following methods: enqueue, which inserts an element into the queue, and dequeue, which removes it."
   ]
  },
  {
   "cell_type": "markdown",
   "id": "f00bbf32",
   "metadata": {},
   "source": [
    "# Solution\n",
    "\n",
    "We can implement this by noticing that while a stack is LIFO (last in first out), if we empty a stack one-by-one into another stack, and then pop from the other stack we can simulate a FIFO (first in first out) list.\n",
    "\n",
    "Consider enqueuing three elements: 1, 2, and then 3:\n",
    "\n",
    "stack1: [1, 2, 3]\n",
    "stack2: []\n",
    "Then emptying stack1 into stack2:\n",
    "\n",
    "stack1: []\n",
    "stack2: [3, 2, 1]\n",
    "Then dequeuing three times:\n",
    "\n",
    "1\n",
    "2\n",
    "3\n",
    "\n",
    "Which retains the original order. So when enqueuing, we can simply push to our first stack. When dequeuing, we'll first check our second stack to see if any residual elements are there from a previous emptying, and if not, we'll empty all of stack one into stack two immediately so that the order of elements is correct (we shouldn't empty some elements into stack two, pop only some of them, and then empty some more, for example).\n",
    "\n"
   ]
  },
  {
   "cell_type": "code",
   "execution_count": 1,
   "id": "9fe81f09",
   "metadata": {},
   "outputs": [],
   "source": [
    "class Queue:\n",
    "    def __init__(self):\n",
    "        self.s1 = []\n",
    "        self.s2 = []\n",
    "\n",
    "    def enqueue(self, val):\n",
    "        self.s1.append(val)\n",
    "\n",
    "    def dequeue(self):\n",
    "        if self.s2:\n",
    "            return self.s2.pop()\n",
    "        if self.s1:\n",
    "            # empty all of s1 into s2\n",
    "            while self.s1:\n",
    "                self.s2.append(self.s1.pop())\n",
    "            return self.s2.pop()\n",
    "        return None"
   ]
  },
  {
   "cell_type": "code",
   "execution_count": null,
   "id": "69cbe9e5",
   "metadata": {},
   "outputs": [],
   "source": []
  },
  {
   "cell_type": "code",
   "execution_count": null,
   "id": "d54302b0",
   "metadata": {},
   "outputs": [],
   "source": []
  }
 ],
 "metadata": {
  "kernelspec": {
   "display_name": "Python 3 (ipykernel)",
   "language": "python",
   "name": "python3"
  },
  "language_info": {
   "codemirror_mode": {
    "name": "ipython",
    "version": 3
   },
   "file_extension": ".py",
   "mimetype": "text/x-python",
   "name": "python",
   "nbconvert_exporter": "python",
   "pygments_lexer": "ipython3",
   "version": "3.8.10"
  }
 },
 "nbformat": 4,
 "nbformat_minor": 5
}
